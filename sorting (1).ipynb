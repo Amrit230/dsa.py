{
 "cells": [
  {
   "cell_type": "code",
   "execution_count": null,
   "id": "62d46162-4928-4fb2-afd0-fc41fbae4a5c",
   "metadata": {},
   "outputs": [],
   "source": [
    "# bubble sorting "
   ]
  },
  {
   "cell_type": "code",
   "execution_count": 28,
   "id": "eaf267f4-71f2-4c55-b7f5-91433b9081c8",
   "metadata": {},
   "outputs": [],
   "source": [
    "def bubblesort(arr):\n",
    "    for i in range(len(arr)-1, 0,-1):\n",
    "        isSorted=True\n",
    "        for j in range(i):\n",
    "            if(arr[j]>arr[j+1]):\n",
    "                isSorted=False\n",
    "                arr[j], arr[j+1]= arr[j+1],arr[j]\n",
    "                \n",
    "                \n",
    "        if isSorted :\n",
    "                 print(\"Array is already sorted\")\n",
    "        break\n",
    "          \n",
    "        \n",
    "        "
   ]
  },
  {
   "cell_type": "code",
   "execution_count": 29,
   "id": "bb9c6146-ed0f-475d-9cec-93165a4e7d77",
   "metadata": {},
   "outputs": [
    {
     "data": {
      "text/plain": [
       "[2, 12, 45, 67]"
      ]
     },
     "execution_count": 29,
     "metadata": {},
     "output_type": "execute_result"
    }
   ],
   "source": [
    "arr=[12,2,45,67]\n",
    "bubblesort(arr)\n",
    "arr"
   ]
  },
  {
   "cell_type": "code",
   "execution_count": 34,
   "id": "c21d3c6b-d2e2-4f06-b979-2cdda0ff6e55",
   "metadata": {},
   "outputs": [
    {
     "data": {
      "text/plain": [
       "False"
      ]
     },
     "execution_count": 34,
     "metadata": {},
     "output_type": "execute_result"
    }
   ],
   "source": [
    "def issorted(arr):\n",
    "    for i in range (len(arr)):\n",
    "        if (arr[i]>arr[i+1]):\n",
    "            return True\n",
    "        else:\n",
    "            return False\n",
    "\n",
    "arr=[2,345,23]\n",
    "issorted(arr)\n",
    "    "
   ]
  },
  {
   "cell_type": "code",
   "execution_count": null,
   "id": "3332e681-562f-47d4-84d3-6d65368595a3",
   "metadata": {},
   "outputs": [],
   "source": [
    "# selection sort \n",
    "def selectionsort(arr):\n",
    "    for i in range(len(arr)):\n",
    "         min = i\n",
    "        for j in range(i+1, len(arr)):\n",
    "            if(arr[j]<arr[min]):\n",
    "                #find the smallest value \n",
    "                min =j\n",
    "        arr[i],arr[min]= arr[min], arr[i]\n",
    "                "
   ]
  },
  {
   "cell_type": "code",
   "execution_count": null,
   "id": "d9e02639-7a76-4d0f-b062-af1dfb678784",
   "metadata": {},
   "outputs": [],
   "source": [
    "# inserion  sort\n",
    "def insertionsort(arr):\n",
    "    for i in range(1,len(arr)):\n",
    "        v=arr[i]\n",
    "        j=i\n",
    "        while(j>=1 and arr[j-1]>v):\n",
    "            arr[j]=arr[j-1]\n",
    "            j-=1\n",
    "            arr[j]=v\n",
    "            \n",
    "            "
   ]
  },
  {
   "cell_type": "code",
   "execution_count": null,
   "id": "34b38e04-dd4d-4264-afca-f7b1a9f2d970",
   "metadata": {},
   "outputs": [],
   "source": [
    "# binary search\n",
    "def binarysearch(arr, x):\n",
    "    low= 0\n",
    "    high= len(arr)-1\n",
    "    \n",
    "    while(low<=high):\n",
    "        mid=int((low+(high-low))/2)\n",
    "        if arr[mid] == x:\n",
    "            return mid\n",
    "        elif arr[mid]>x:\n",
    "            high=mid-1\n",
    "        else:\n",
    "            low= mid-1\n",
    "    return -1\n",
    "    \n",
    "    \n",
    "    \n",
    "    \n",
    "# example usge\n",
    "arr=[12,122,134,24]\n",
    "x=24\n",
    "binarysearch(arr,x)"
   ]
  },
  {
   "cell_type": "code",
   "execution_count": 11,
   "id": "a8b8bc46-c53e-4e01-aa9b-7b61b2d49afa",
   "metadata": {},
   "outputs": [
    {
     "name": "stdout",
     "output_type": "stream",
     "text": [
      "Element found at index 6\n"
     ]
    }
   ],
   "source": [
    "def binary_search(arr, target):\n",
    "    low, high = 0, len(arr) - 1\n",
    "\n",
    "    while low <= high:\n",
    "        mid = (low + high) // 2\n",
    "    \n",
    "\n",
    "        if arr[mid] == target:\n",
    "            return mid  # Element found, return its index\n",
    "        elif arr[mid] < target:\n",
    "            low = mid + 1  # Disregard the left half\n",
    "        else:\n",
    "            high = mid - 1  # Disregard the right half\n",
    "\n",
    "    return -1  # Element not found\n",
    "\n",
    "# Example usage:\n",
    "sorted_array = [1, 2, 3, 4, 5, 6, 7, 8, 9, 10]\n",
    "target_value = 7\n",
    "\n",
    "result = binary_search(sorted_array, target_value)\n",
    "\n",
    "if result != -1:\n",
    "    print(f\"Element found at index {result}\")\n",
    "else:\n",
    "    print(\"Element not found in the array.\")\n",
    "    \n"
   ]
  },
  {
   "cell_type": "code",
   "execution_count": 13,
   "id": "5aba23b2-ba34-4cad-bc5b-3483c57abc18",
   "metadata": {},
   "outputs": [
    {
     "name": "stdout",
     "output_type": "stream",
     "text": [
      "1\n",
      "2\n",
      "34\n"
     ]
    }
   ],
   "source": [
    "def printa(arr, si):\n",
    "    if si>=len(arr):\n",
    "        return \n",
    "    #logic\n",
    "    print(arr[si])\n",
    "    # recursive call\n",
    "    printa(arr,si+1)\n",
    "    \n",
    "\n",
    "printa([1,2,34],0)"
   ]
  },
  {
   "cell_type": "code",
   "execution_count": 16,
   "id": "a88be306-ab0e-4482-8e82-a55f4be7783c",
   "metadata": {},
   "outputs": [],
   "source": [
    "def small(arr, si):\n",
    "    #base case\n",
    "    c=len(arr)\n",
    "    if si>=c:\n",
    "        return 999999\n",
    "    \n",
    "    return min(arr[si], small(arr, si+1))\n",
    "    \n",
    "    "
   ]
  },
  {
   "cell_type": "code",
   "execution_count": 17,
   "id": "9ed257f6-1811-48bc-84d3-5f02debe49c4",
   "metadata": {},
   "outputs": [
    {
     "data": {
      "text/plain": [
       "10"
      ]
     },
     "execution_count": 17,
     "metadata": {},
     "output_type": "execute_result"
    }
   ],
   "source": [
    "arr=[13,24,12,10]\n",
    "small(arr,0)"
   ]
  },
  {
   "cell_type": "code",
   "execution_count": null,
   "id": "03e6c50d-323b-4a88-a44d-f1e9c31c63b1",
   "metadata": {},
   "outputs": [],
   "source": [
    "#tower of hanoi\n"
   ]
  },
  {
   "cell_type": "code",
   "execution_count": 19,
   "id": "96e33544-0e63-458b-b133-920e32654e37",
   "metadata": {},
   "outputs": [
    {
     "name": "stdout",
     "output_type": "stream",
     "text": [
      "1\n",
      "3\n",
      "7\n",
      "15\n"
     ]
    }
   ],
   "source": [
    "def moves(n, s, d,a):\n",
    "    # base condition\n",
    "    if n==1:\n",
    "        return 1\n",
    "    return moves(n-1,s,a,d)+1+moves(n-1,a,d,s)\n",
    "\n",
    "\n",
    "print(moves(1,'s','d','a'))\n",
    "print(moves(2,'s','d','a'))\n",
    "print(moves(3,'s','d','a'))\n",
    "print(moves(4,'s','d','a'))\n",
    "\n",
    "    \n",
    "    \n",
    "    "
   ]
  },
  {
   "cell_type": "code",
   "execution_count": null,
   "id": "7b0c645c-5082-483a-83f2-30dc2363c4cd",
   "metadata": {},
   "outputs": [],
   "source": []
  }
 ],
 "metadata": {
  "kernelspec": {
   "display_name": "Python 3 (ipykernel)",
   "language": "python",
   "name": "python3"
  },
  "language_info": {
   "codemirror_mode": {
    "name": "ipython",
    "version": 3
   },
   "file_extension": ".py",
   "mimetype": "text/x-python",
   "name": "python",
   "nbconvert_exporter": "python",
   "pygments_lexer": "ipython3",
   "version": "3.10.8"
  }
 },
 "nbformat": 4,
 "nbformat_minor": 5
}
